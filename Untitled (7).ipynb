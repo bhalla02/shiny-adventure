{
 "cells": [
  {
   "cell_type": "markdown",
   "id": "bf2a6dba-d55e-4086-9a92-0f74d3e4ab19",
   "metadata": {},
   "source": [
    "Q1\n",
    "\n",
    " MongoDB is a NoSQL, document-oriented database that provides a flexible and scalable way to store and retrieve data. \n",
    " \n",
    " Non-relational databases, often referred to as NoSQL databases, are a category of databases that do not follow the traditional relational database model.\n",
    " \n",
    " Unlike SQL databases, which are based on a fixed schema and use tables to store data, NoSQL databases provide a more flexible and scalable approach to data storage. They can handle a variety of data types and structures, making them well-suited for applications with rapidly changing requirements or large-scale distributed systems."
   ]
  },
  {
   "cell_type": "markdown",
   "id": "c6d44ccf-88a7-44e3-845f-983076625727",
   "metadata": {},
   "source": [
    "Q2\n",
    "\n",
    "Document-Oriented: MongoDB stores data in flexible, JSON-like BSON (Binary JSON) documents. These documents can have varying structures and can contain nested elements, making it easy to represent complex data.\n",
    "\n",
    "Schema-less: Unlike traditional SQL databases, MongoDB doesn't require a predefined schema for data. This allows for more flexible data modeling, making it easier to adapt to changing application requirements.\n",
    "\n",
    "High Scalability: MongoDB is designed to scale horizontally, allowing you to distribute data across multiple nodes. This makes it well-suited for handling large volumes of data and high traffic loads.\n",
    "\n",
    "High Availability and Fault Tolerance: MongoDB supports replication, which allows for the creation of multiple copies of data across different servers. This provides fault tolerance and ensures that data remains accessible even in the event of hardware failures.\n"
   ]
  },
  {
   "cell_type": "code",
   "execution_count": null,
   "id": "b5719c8b-f677-4f91-b6d1-c6ac17cfe10e",
   "metadata": {},
   "outputs": [],
   "source": [
    "#Q3\n",
    "import pymongo\n",
    "\n",
    "# Connect to MongoDB\n",
    "client = pymongo.MongoClient(\"mongodb://localhost:27017/\")  # Assuming MongoDB is running locally on the default port\n",
    "\n",
    "# Create a database (if it doesn't exist, MongoDB will create it when data is first inserted)\n",
    "db = client[\"mydatabase\"]\n",
    "\n",
    "# Create a collection (similar to a table in SQL)\n",
    "collection = db[\"mycollection\"]\n",
    "\n",
    "# Insert a document into the collection\n",
    "document = {\"name\": \"John Doe\", \"email\": \"john@example.com\"}\n",
    "collection.insert_one(document)\n",
    "\n",
    "# Close the connection (optional, as Python will automatically close it when the script ends)\n",
    "client.close()"
   ]
  },
  {
   "cell_type": "code",
   "execution_count": null,
   "id": "3c94c05a-ad02-4cdf-bb8e-eb639e48e218",
   "metadata": {},
   "outputs": [],
   "source": [
    "#Q4\n",
    "\n",
    "import pymongo\n",
    "\n",
    "# Connect to MongoDB\n",
    "client = pymongo.MongoClient(\"mongodb://localhost:27017/\")\n",
    "db = client[\"mydatabase\"]\n",
    "collection = db[\"mycollection\"]\n",
    "\n",
    "# Insert one record\n",
    "record_one = {\"name\": \"Jane Doe\", \"email\": \"jane@example.com\"}\n",
    "inserted_one = collection.insert_one(record_one)\n",
    "print(f\"Inserted record ID: {inserted_one.inserted_id}\")\n",
    "\n",
    "# Insert many records\n",
    "records_many = [\n",
    "    {\"name\": \"Bob Smith\", \"email\": \"bob@example.com\"},\n",
    "    {\"name\": \"Alice Johnson\", \"email\": \"alice@example.com\"},\n",
    "    {\"name\": \"Charlie Brown\", \"email\": \"charlie@example.com\"}\n",
    "]\n",
    "inserted_many = collection.insert_many(records_many)\n",
    "print(f\"Inserted {len(inserted_many.inserted_ids)} records\")\n",
    "\n",
    "# Find and print one record\n",
    "found_one = collection.find_one({\"name\": \"Jane Doe\"})\n",
    "print(\"Found one record:\")\n",
    "print(found_one)\n",
    "\n",
    "# Find and print all records\n",
    "found_all = collection.find({})\n",
    "print(\"Found all records:\")\n",
    "for record in found_all:\n",
    "    print(record)\n",
    "\n",
    "# Close the connection\n",
    "client.close()\n"
   ]
  },
  {
   "cell_type": "code",
   "execution_count": null,
   "id": "b8c2144b-c753-4c9e-a31b-970f8a23ab2c",
   "metadata": {},
   "outputs": [],
   "source": [
    "#Q4\n",
    "import pymongo\n",
    "\n",
    "# Connect to MongoDB\n",
    "client = pymongo.MongoClient(\"mongodb://localhost:27017/\")\n",
    "db = client[\"mydatabase\"]\n",
    "collection = db[\"mycollection\"]\n",
    "\n",
    "# Insert some sample data for demonstration\n",
    "sample_data = [\n",
    "    {\"name\": \"John Doe\", \"email\": \"john@example.com\", \"age\": 30},\n",
    "    {\"name\": \"Jane Doe\", \"email\": \"jane@example.com\", \"age\": 25},\n",
    "    {\"name\": \"Bob Smith\", \"email\": \"bob@example.com\", \"age\": 35},\n",
    "    {\"name\": \"Alice Johnson\", \"email\": \"alice@example.com\", \"age\": 28}\n",
    "]\n",
    "collection.insert_many(sample_data)\n",
    "\n",
    "# Find documents where age is greater than or equal to 30\n",
    "query = {\"age\": {\"$gte\": 30}}\n",
    "results = collection.find(query)\n",
    "\n",
    "# Print the results\n",
    "print(\"Documents with age greater than or equal to 30:\")\n",
    "for result in results:\n",
    "    print(result)\n",
    "\n",
    "# Close the connection\n",
    "client.close()\n"
   ]
  },
  {
   "cell_type": "code",
   "execution_count": null,
   "id": "4e347a10-a9d2-444c-aea6-23dd6ef0ff36",
   "metadata": {},
   "outputs": [],
   "source": [
    "#Q4\n"
   ]
  }
 ],
 "metadata": {
  "kernelspec": {
   "display_name": "Python 3 (ipykernel)",
   "language": "python",
   "name": "python3"
  },
  "language_info": {
   "codemirror_mode": {
    "name": "ipython",
    "version": 3
   },
   "file_extension": ".py",
   "mimetype": "text/x-python",
   "name": "python",
   "nbconvert_exporter": "python",
   "pygments_lexer": "ipython3",
   "version": "3.10.8"
  }
 },
 "nbformat": 4,
 "nbformat_minor": 5
}
